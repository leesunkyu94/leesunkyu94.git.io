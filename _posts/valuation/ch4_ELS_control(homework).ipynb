{
 "cells": [
  {
   "cell_type": "code",
   "execution_count": 1,
   "metadata": {},
   "outputs": [
    {
     "name": "stderr",
     "output_type": "stream",
     "text": [
      "c:\\users\\lee\\appdata\\local\\programs\\python\\python37\\lib\\site-packages\\ipykernel_launcher.py:56: RuntimeWarning: divide by zero encountered in true_divide\n"
     ]
    },
    {
     "name": "stdout",
     "output_type": "stream",
     "text": [
      "        t=0.5   t=1.0   t=1.5   t=2.0\n",
      "S1      0.2640  0.2834  0.2848  0.2748  \n",
      "S2      0.3619  0.3810  0.3730  0.3554  \n",
      "put1   -0.3183 -0.3943 -0.4245 -0.4169  \n",
      "put2   -0.4549 -0.5711 -0.6132 -0.6121  \n",
      "digital 0.4768  0.4981  0.5353  0.5760  \n"
     ]
    }
   ],
   "source": [
    "import numpy as np #강의 38분 20초\n",
    "from scipy.stats import norm\n",
    "def BS_put(S,K,r,q,T,sigma):\n",
    "    d1=(np.log(S/K)+(r-q+sigma**2/2)*T)/(sigma*np.sqrt(T))\n",
    "    d2=d1-sigma*np.sqrt(T)\n",
    "    return K*np.exp(-r*T)*norm.cdf(-d2)-S*np.exp(-q*T)*norm.cdf(-d1)\n",
    "def digital_option(S1,S2,T):\n",
    "    if T==0.5:\n",
    "        payoff=np.array((S1>0.85) & (S2>0.85))     \n",
    "    if T==1:\n",
    "        payoff=np.array((S1>0.80) & (S2>0.80))\n",
    "    if T==1.5:\n",
    "        payoff=np.array((S1>0.75) & (S2>0.75))\n",
    "    if T==2:\n",
    "        payoff=np.array((S1>0.70) & (S2>0.70))\n",
    "    return payoff/pow(1+r,T)*100\n",
    "def control_variable(r,q1,q2,sigma1,sigma2,rho,M,n):\n",
    "    ##################################################ELS valuation\n",
    "    value_list=np.zeros(M)\n",
    "    case_list=np.zeros(M)\n",
    "    \n",
    "    X1=np.zeros((n*4+1,M))\n",
    "    X1[0]=np.ones(M)\n",
    "    X2=np.zeros((n*4+1,M))\n",
    "    X2[0]=np.ones(M)\n",
    "    for i in range(X1.shape[0]-1):\n",
    "        T=1/(n*2)\n",
    "        x1=np.random.normal(size=M)\n",
    "        x2=np.random.normal(size=M)\n",
    "        e1=x1\n",
    "        e2=rho*x1+x2*np.sqrt(1-pow(rho,2))\n",
    "        X1[i+1]=X1[i]/np.exp((q1-r-pow(sigma1,2)/2)*T+sigma1*e1*np.sqrt(T))\n",
    "        X2[i+1]=X2[i]/np.exp((q2-r-pow(sigma2,2)/2)*T+sigma2*e2*np.sqrt(T))\n",
    "    profit_flag=np.ones(M)\n",
    "    for i in range(M):\n",
    "        if (True in list(X1[:,i]<0.6)) or (True in list(X2[:,i]<0.6)):\n",
    "            profit_flag[i]=0\n",
    "\n",
    "    case=0\n",
    "    ########60퍼 이하로 안떨어진 경우\n",
    "    for i in range(M):\n",
    "        if profit_flag[i]==1:\n",
    "            if X1[:,i][n*1]>=0.85 and X2[:,i][n*1]>=0.85:\n",
    "                value=100*pow(1+0.125,0.5)/pow(1+r,0.5)\n",
    "                case=1\n",
    "            elif X1[:,i][n*2]>=0.80 and X2[:,i][n*2]>=0.80:\n",
    "                value=100*pow(1+0.125,1)/pow(1+r,1)\n",
    "                case=2\n",
    "            elif X1[:,i][n*3]>=0.75 and X2[:,i][n*3]>=0.75:\n",
    "                value=100*pow(1+0.125,1.5)/pow(1+r,1.5)\n",
    "                case=3\n",
    "            elif X1[:,i][n*4]>=0.70 and X2[:,i][n*4]>=0.70:\n",
    "                value=100*pow(1+0.125,2)/pow(1+r,2)\n",
    "                case=4\n",
    "            elif X1[:,i][n*4]<=0.70 or X2[:,i][n*4]<=0.70:\n",
    "                value=100/pow(1+r,2)\n",
    "                case=5\n",
    "        ########60퍼 이하로 떨어진 경우              \n",
    "        if profit_flag[i]==0: \n",
    "            if X1[:,i][n*4]<0.70 or X2[:,i][n*4]<0.70:\n",
    "                value=min(X1[:,i][n*4]*100,X2[:,i][n*4]*100)/pow(1+r,2)\n",
    "                case=6\n",
    "            elif X1[:,i][n*4]>=0.70 and X2[:,i][n*4]>=0.70:\n",
    "                value=100*pow(1+0.125,2)/pow(1+r,2)\n",
    "                case=4\n",
    "        value_list[i]=value\n",
    "        case_list[i]=case\n",
    "    Y=value_list\n",
    "    ########################################################## T1 시점 s1\n",
    "    X=np.ones((M,20))\n",
    "    ##########  S1 데이터\n",
    "    X[:,0]=(X1[n*1].T)*100/pow(1+r,0.5)\n",
    "    X[:,1]=(X1[n*2].T)*100/pow(1+r,1)\n",
    "    X[:,2]=(X1[n*3].T)*100/pow(1+r,1.5)\n",
    "    X[:,3]=(X1[n*4].T)*100/pow(1+r,2)\n",
    "    ##########  S2 데이터\n",
    "    X[:,4]=(X2[n*1].T)*100/pow(1+r,0.5)\n",
    "    X[:,5]=(X2[n*2].T)*100/pow(1+r,1)\n",
    "    X[:,6]=(X2[n*3].T)*100/pow(1+r,1.5)\n",
    "    X[:,7]=(X2[n*4].T)*100/pow(1+r,2)\n",
    "    ##########  S1 put\n",
    "    X[:,8]=BS_put(X1[n*1],0.85,r,q1,1/2*0,sigma1)*100/pow(1+r,0.5)\n",
    "    X[:,9]=BS_put(X1[n*2],0.8,r,q1,1/2*0,sigma1)*100/pow(1+r,1)\n",
    "    X[:,10]=BS_put(X1[n*3],0.75,r,q1,1/2*0,sigma1)*100/pow(1+r,1.5)\n",
    "    X[:,11]=BS_put(X1[n*4],0.7,r,q1,1/2*0,sigma1)*100/pow(1+r,2)\n",
    "    ##########  S2 put\n",
    "    X[:,12]=BS_put(X2[n*1],0.85,r,q2,1/2*0,sigma2)*100/pow(1+r,0.5)\n",
    "    X[:,13]=BS_put(X2[n*2],0.8,r,q2,1/2*0,sigma2)*100/pow(1+r,1)\n",
    "    X[:,14]=BS_put(X2[n*3],0.75,r,q2,1/2*0,sigma2)*100/pow(1+r,1.5)\n",
    "    X[:,15]=BS_put(X2[n*4],0.7,r,q2,1/2*0,sigma2)*100/pow(1+r,2)\n",
    "    ##########  digital\n",
    "    X[:,16]=digital_option(X1[n*1],X2[n*1],0.5)\n",
    "    X[:,17]=digital_option(X1[n*1],X2[n*1],1)\n",
    "    X[:,18]=digital_option(X1[n*1],X2[n*1],1.5)\n",
    "    X[:,19]=digital_option(X1[n*1],X2[n*1],2)\n",
    "    \n",
    "    return Y,X,case_list\n",
    "r=0.03\n",
    "q1=0.0\n",
    "q2=0.0\n",
    "sigma1=0.3\n",
    "sigma2=0.4\n",
    "rho=0.2\n",
    "M=100000\n",
    "n=8\n",
    "####  Y=discounted payoff\n",
    "####  X=x candidate \n",
    "##### s1 , s1 의 시점마다 주가 discounted\n",
    "Y,X,trash=control_variable(r,q1,q2,sigma1,sigma2,rho,M,n)\n",
    "\n",
    "corr=np.zeros(20)\n",
    "for i in range(20):\n",
    "    a=np.column_stack((Y,X[:,i]))\n",
    "    corr[i]=np.corrcoef(a,rowvar=False)[0,1]\n",
    "print('        t=0.5   t=1.0   t=1.5   t=2.0')\n",
    "print('S1     ',end='')\n",
    "for i in range(4):\n",
    "    print('{:{width}.4f}'.format(corr[i],width=7),end=' ')\n",
    "print(' ')\n",
    "print('S2     ',end='')\n",
    "for i in range(4,8):\n",
    "    print('{:{width}.4f}'.format(corr[i],width=7),end=' ')\n",
    "print(' ')\n",
    "print('put1   ',end='')\n",
    "for i in range(8,12):\n",
    "    print('{:{width}.4f}'.format(corr[i],width=7),end=' ')\n",
    "print(' ')\n",
    "print('put2   ',end='')\n",
    "for i in range(12,16):\n",
    "    print('{:{width}.4f}'.format(corr[i],width=7),end=' ')\n",
    "print(' ')\n",
    "print('digital',end='')\n",
    "for i in range(16,20):\n",
    "    print('{:{width}.4f}'.format(corr[i],width=7),end=' ')\n",
    "print(' ')\n"
   ]
  },
  {
   "cell_type": "code",
   "execution_count": null,
   "metadata": {},
   "outputs": [],
   "source": [
    "'''t=0.5   t=1.0   t=1.5   t=2.0\n",
    "S1      0.2670  0.2895  0.2889  0.2795  \n",
    "S2      0.3553  0.3783  0.3692  0.3514  \n",
    "put1   -0.3224 -0.4012 -0.4313 -0.4287  \n",
    "put2   -0.4499 -0.5669 -0.6050 -0.6078  \n",
    "digital 0.4716  0.4953  0.5296  0.5745 '''"
   ]
  },
  {
   "cell_type": "code",
   "execution_count": 2,
   "metadata": {},
   "outputs": [
    {
     "data": {
      "image/png": "[encoded data removed]",
      "text/plain": [
       "<Figure size 432x288 with 1 Axes>"
      ]
     },
     "metadata": {
      "needs_background": "light"
     },
     "output_type": "display_data"
    },
    {
     "data": {
      "image/png": "[encoded data removed]",
      "text/plain": [
       "<Figure size 432x288 with 1 Axes>"
      ]
     },
     "metadata": {
      "needs_background": "light"
     },
     "output_type": "display_data"
    },
    {
     "data": {
      "image/png": "[encoded data removed]",
      "text/plain": [
       "<Figure size 432x288 with 1 Axes>"
      ]
     },
     "metadata": {
      "needs_background": "light"
     },
     "output_type": "display_data"
    }
   ],
   "source": [
    "import matplotlib.pyplot as plt\n",
    "%matplotlib inline\n",
    "fig=plt.figure()\n",
    "ax=fig.add_axes([0,0,1,1])\n",
    "ax.scatter(X[:,7], Y, color='r')\n",
    "ax.set_xlabel('S2(2y)')\n",
    "ax.set_ylabel('ELS')\n",
    "ax.set_title('underlying asset')\n",
    "plt.show()\n",
    "fig=plt.figure()\n",
    "ax=fig.add_axes([0,0,1,1])\n",
    "ax.scatter(X[:,15], Y, color='r')\n",
    "ax.set_xlabel('put2(2y)')\n",
    "ax.set_ylabel('ELS')\n",
    "ax.set_title('put option')\n",
    "plt.show()\n",
    "fig=plt.figure()\n",
    "ax=fig.add_axes([0,0,1,1])\n",
    "ax.scatter(X[:,19], Y, color='r')\n",
    "ax.set_xlabel('digital(2y)')\n",
    "ax.set_ylabel('ELS')\n",
    "ax.set_title('Digital option')\n",
    "plt.show()"
   ]
  },
  {
   "cell_type": "code",
   "execution_count": 3,
   "metadata": {},
   "outputs": [
    {
     "name": "stdout",
     "output_type": "stream",
     "text": [
      "value = 93.22, value2 = 93.12, err = 0.27, err2 = 0.21\n",
      "prob[1] = 54.66%\n",
      "prob[2] = 12.58%\n",
      "prob[3] =  6.81%\n",
      "prob[4] =  4.10%\n",
      "prob[5] =  0.19%\n",
      "prob[6] = 21.66%\n",
      "Total sum of prob = 100%\n",
      "Total computing time = 0.066821 seconds\n"
     ]
    },
    {
     "name": "stderr",
     "output_type": "stream",
     "text": [
      "c:\\users\\lee\\appdata\\local\\programs\\python\\python37\\lib\\site-packages\\ipykernel_launcher.py:4: RuntimeWarning: divide by zero encountered in true_divide\n",
      "  after removing the cwd from sys.path.\n"
     ]
    }
   ],
   "source": [
    "import numpy as np #51분 56초에 아무거나 해도 된다고함\n",
    "from scipy.stats import norm\n",
    "\n",
    "def ELS_control(r,q1,q2,sigma1,sigma2,rho,M,m):\n",
    "    Y,X,case_list=control_variable(r,q1,q2,sigma1,sigma2,rho,M,n)\n",
    "    \n",
    "    value=Y.mean()\n",
    "    err=np.std(Y)/np.sqrt(M)\n",
    "    unique, counts = np.unique(case_list, return_counts=True)\n",
    "    counts=counts/M\n",
    "    prob=dict(zip(unique, counts))\n",
    "    \n",
    "    \n",
    "    b=np.cov(Y,X[:,15])[0][1]/X[:,15].var()\n",
    "    EX = BS_put(S=1,K=0.7,r=r,q=q2,T=2,sigma=sigma2)*100\n",
    "    mx=X[:,15].mean()\n",
    "    Y_hat=Y-b*(X[:,15]-EX)\n",
    "    \n",
    "    value2=Y_hat.mean()\n",
    "    err2=np.std(Y_hat)/np.sqrt(M)\n",
    "\n",
    "        \n",
    "    return value,value2,err,err2,prob,b,mx,EX\n",
    "from datetime import datetime\n",
    "r=0.03\n",
    "q1=0.0\n",
    "q2=0.0\n",
    "sigma1=0.3\n",
    "sigma2=0.4\n",
    "rho=0.2\n",
    "M=10000\n",
    "m=3\n",
    "t1=datetime.now()\n",
    "value,value2,err,err2,prob,b,mx,EX=ELS_control(r,q1,q2,sigma1,sigma2,rho,M,m)\n",
    "t2=datetime.now()\n",
    "print('value = {:.2f}, value2 = {:.2f}, err = {:.2f}, err2 = {:.2f}'.format(value,value2,err,err2))\n",
    "for i in range(6):\n",
    "    try:\n",
    "        print('prob[{:d}] = {:{width}.2%}'.format(i+1,prob[i+1],width=6))\n",
    "    except KeyError:\n",
    "        print('prob[{:d}] = {:{width}.2%}'.format(i+1,0,width=6))\n",
    "print('Total sum of prob = {:.0%}'.format(sum(prob.values())))\n",
    "print('Total computing time = {:f} seconds'.format((t2-t1).total_seconds()))"
   ]
  },
  {
   "cell_type": "code",
   "execution_count": null,
   "metadata": {},
   "outputs": [],
   "source": [
    "'''value = 92.97, value2 = 93.20, err = 0.27, err2 = 0.21\n",
    "prob[1] = 54.23%\n",
    "prob[2] = 12.56%\n",
    "prob[3] =  6.67%\n",
    "prob[4] =  4.25%\n",
    "prob[5] =  0.41%\n",
    "prob[6] =  1.27%\n",
    "prob[7] = 20.61%\n",
    "Total sum of prob = 100%\n",
    "Total computing time = 0.616036 seconds'''"
   ]
  },
  {
   "cell_type": "code",
   "execution_count": 4,
   "metadata": {},
   "outputs": [
    {
     "data": {
      "text/plain": [
       "(-1.4795580037363885, 5.954397116908512, 6.025617603963604)"
      ]
     },
     "execution_count": 4,
     "metadata": {},
     "output_type": "execute_result"
    }
   ],
   "source": [
    "b,mx,EX"
   ]
  }
 ],
 "metadata": {
  "kernelspec": {
   "display_name": "Python 3",
   "language": "python",
   "name": "python3"
  },
  "language_info": {
   "codemirror_mode": {
    "name": "ipython",
    "version": 3
   },
   "file_extension": ".py",
   "mimetype": "text/x-python",
   "name": "python",
   "nbconvert_exporter": "python",
   "pygments_lexer": "ipython3",
   "version": "3.7.5"
  }
 },
 "nbformat": 4,
 "nbformat_minor": 2
}
